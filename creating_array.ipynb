{
 "cells": [
  {
   "cell_type": "code",
   "execution_count": 1,
   "metadata": {},
   "outputs": [],
   "source": [
    "import numpy as np\n"
   ]
  },
  {
   "cell_type": "code",
   "execution_count": 2,
   "metadata": {},
   "outputs": [
    {
     "name": "stdout",
     "output_type": "stream",
     "text": [
      "[[1 2 3]\n",
      " [4 5 6]]\n"
     ]
    }
   ],
   "source": [
    "arr = np.array([[1,2,3],[4,5,6]])\n",
    "print(arr)"
   ]
  },
  {
   "cell_type": "markdown",
   "metadata": {},
   "source": [
    "printing array reversely"
   ]
  },
  {
   "cell_type": "code",
   "execution_count": 3,
   "metadata": {},
   "outputs": [
    {
     "name": "stdout",
     "output_type": "stream",
     "text": [
      "[4 5 6]\n",
      "[1 2 3]\n"
     ]
    }
   ],
   "source": [
    "arr = np.array([[1,2,3],[4,5,6]])\n",
    "i = len(arr)-1\n",
    "while i>= 0:\n",
    "    print(arr[i])\n",
    "    i -= 1\n",
    "    \n"
   ]
  },
  {
   "cell_type": "markdown",
   "metadata": {},
   "source": [
    "Reversing an array (out of place): maane copying rki into another new array reversely"
   ]
  },
  {
   "cell_type": "code",
   "execution_count": 5,
   "metadata": {},
   "outputs": [
    {
     "name": "stdout",
     "output_type": "stream",
     "text": [
      "[4 3 2 1]\n",
      "[5 4 3 2 1]\n"
     ]
    }
   ],
   "source": [
    "def reverse_out_of_place(arr):\n",
    "    arr2 = np.zeros(len(arr), dtype=int) # creating a new array\n",
    "    i = 0\n",
    "\n",
    "    while (i <= len(arr) - 1): # checking if i is less than the last index of array arr\n",
    "        arr2[i] = arr[len(arr) - 1 - i] # ekhane -i is subtracting the current index from last index. So last theke traverse hocche.\n",
    "        i += 1\n",
    "\n",
    "    return arr2\n",
    "\n",
    "arr= np.array([1, 2, 3, 4])\n",
    "print(reverse_out_of_place(arr))\n",
    "\n",
    "arr= np.array([1, 2, 3, 4, 5])\n",
    "print(reverse_out_of_place(arr))"
   ]
  },
  {
   "cell_type": "markdown",
   "metadata": {},
   "source": [
    "Reversing an array(in place): this is basically swapping"
   ]
  },
  {
   "cell_type": "code",
   "execution_count": 6,
   "metadata": {},
   "outputs": [
    {
     "name": "stdout",
     "output_type": "stream",
     "text": [
      "[4 3 2 1]\n",
      "[5 4 3 2 1]\n"
     ]
    }
   ],
   "source": [
    "def reverse_inPlace(arr):\n",
    "    x = 0 \n",
    "    j = len(arr)-1 \n",
    "    for i in range(len(arr)//2):\n",
    "        temp = arr[i] # arr er elem aage ekta temp e rekhe nicchi\n",
    "        arr[i]=arr[j] # last index er elem gula \n",
    "        arr[j]=temp\n",
    "        x += 0\n",
    "        j -= 1\n",
    "    return arr\n",
    "\n",
    "arr = np.array([1, 2, 3, 4])\n",
    "print(reverse_inPlace(arr))\n",
    "\n",
    "arr = np.array([1, 2, 3, 4, 5])\n",
    "print(reverse_inPlace(arr))\n"
   ]
  },
  {
   "cell_type": "code",
   "execution_count": 7,
   "metadata": {},
   "outputs": [
    {
     "name": "stdout",
     "output_type": "stream",
     "text": [
      "[4 3 2 1]\n"
     ]
    }
   ],
   "source": [
    "def reverse_inPlace(arr):\n",
    "    for i in range(len(arr)//2):\n",
    "        temp = arr[i]\n",
    "        arr[i] = arr[(len(arr)-1)-i]\n",
    "        arr[(len(arr)-1)-i] = temp \n",
    "        \n",
    "    return arr \n",
    "\n",
    "arr = np.array([1, 2, 3, 4])\n",
    "print(reverse_inPlace(arr))\n",
    "        "
   ]
  },
  {
   "cell_type": "markdown",
   "metadata": {},
   "source": [
    "Resize Array : \n",
    "For fixed memory location, we cant resize array. To resize it, first we need to make a new array with a size that we want to resize. "
   ]
  },
  {
   "cell_type": "code",
   "execution_count": 8,
   "metadata": {},
   "outputs": [
    {
     "data": {
      "text/plain": [
       "array([1, 2, 3, 4, 0, 0])"
      ]
     },
     "execution_count": 8,
     "metadata": {},
     "output_type": "execute_result"
    }
   ],
   "source": [
    "#import numpy as np\n",
    "def resize_arr( given_arr, new_size):\n",
    "    new_arr = np.array([0]*new_size ) # array dte vule gesi \n",
    "    for i in range(len(given_arr)):\n",
    "        new_arr[i]= given_arr[i]\n",
    "    return new_arr\n",
    "\n",
    "given_arr =np.array([1,2,3,4]) \n",
    "\n",
    "resize_arr(given_arr, 6)"
   ]
  },
  {
   "cell_type": "markdown",
   "metadata": {},
   "source": [
    "#copy Array:\n",
    "\n",
    "Initializing new array with same length of the given array. Copying the value one by one as just memory location copy  hoy."
   ]
  },
  {
   "cell_type": "code",
   "execution_count": 9,
   "metadata": {},
   "outputs": [
    {
     "data": {
      "text/plain": [
       "array([1, 2, 3, 4])"
      ]
     },
     "execution_count": 9,
     "metadata": {},
     "output_type": "execute_result"
    }
   ],
   "source": [
    "import numpy as np\n",
    "def copy_array( arr):\n",
    "    new_arr = np.array([0]* len(arr))\n",
    "    for i in range(len(arr)):\n",
    "        new_arr[i]= arr[i]\n",
    "    return new_arr\n",
    "\n",
    "arr1 = np.array([1,2,3,4])\n",
    "copy_array(arr1)\n",
    "\n",
    "        "
   ]
  },
  {
   "cell_type": "markdown",
   "metadata": {},
   "source": [
    "Array shifting:"
   ]
  },
  {
   "cell_type": "markdown",
   "metadata": {},
   "source": [
    "right shift: must be start from last block. and right side e shorte thakbe. first box blsnk hote thakbe.\n",
    "\n",
    "basically, im shifting from left to right and iterating from right to left."
   ]
  },
  {
   "cell_type": "code",
   "execution_count": 14,
   "metadata": {},
   "outputs": [
    {
     "name": "stdout",
     "output_type": "stream",
     "text": [
      "[0 1 2 3]\n"
     ]
    }
   ],
   "source": [
    "def right_shift(arr):\n",
    "    for i in range(len(arr)-1, 0, -1): # starting from last element. loop is iterating in reverse order.\n",
    "        arr[i] = arr[i-1]\n",
    "    arr [0] = 0\n",
    "    return arr\n",
    "\n",
    "arr = np.array([1, 2, 3, 4])\n",
    "print(right_shift(arr))"
   ]
  },
  {
   "cell_type": "markdown",
   "metadata": {},
   "source": [
    "left shift:"
   ]
  },
  {
   "cell_type": "code",
   "execution_count": 7,
   "metadata": {},
   "outputs": [
    {
     "name": "stdout",
     "output_type": "stream",
     "text": [
      "[2 3 4 0]\n"
     ]
    }
   ],
   "source": [
    "def left_shift(arr):\n",
    "    for i in range(1, len(arr),1): # iterating right to left\n",
    "        arr [i-1] = arr[i] \n",
    "    arr[len(arr)-1] = 0\n",
    "    return arr\n",
    "\n",
    "arr = np.array([1, 2, 3, 4])\n",
    "print(left_shift(arr))"
   ]
  },
  {
   "cell_type": "markdown",
   "metadata": {},
   "source": [
    "ROTATING"
   ]
  },
  {
   "cell_type": "markdown",
   "metadata": {},
   "source": [
    "Left rotate: This is equivalent to shifting circular array left. 1st elem will not be lost as it will move to last slot. mane, elem gula baam dike shorte thakbe."
   ]
  },
  {
   "cell_type": "code",
   "execution_count": 9,
   "metadata": {},
   "outputs": [
    {
     "name": "stdout",
     "output_type": "stream",
     "text": [
      "[2 3 4 1]\n"
     ]
    }
   ],
   "source": [
    "def rotate_left(arr):\n",
    "    temp = arr[0]  # eta aage kno liklm??? # 1st elem aagei store kre nicchi\n",
    "    for i in range(1, len(arr),1): # iterating right to left\n",
    "       \n",
    "        arr [i-1] = arr[i] \n",
    "    arr[len(arr)-1] = temp\n",
    "    return arr\n",
    "\n",
    "arr = np.array([1, 2, 3, 4])\n",
    "print(rotate_left(arr))"
   ]
  },
  {
   "cell_type": "markdown",
   "metadata": {},
   "source": [
    "right rotate:"
   ]
  },
  {
   "cell_type": "code",
   "execution_count": 12,
   "metadata": {},
   "outputs": [
    {
     "name": "stdout",
     "output_type": "stream",
     "text": [
      "[4 1 2 3]\n"
     ]
    }
   ],
   "source": [
    "def right_rotate(arr):\n",
    "    temp = arr[len(arr)-1]\n",
    "    for i in range( len(arr)-1,0, -1):\n",
    "       \n",
    "        arr [i] = arr[i-1] \n",
    "    arr[0] = temp\n",
    "    return arr\n",
    "\n",
    "arr = np.array([1, 2, 3, 4])\n",
    "print(right_rotate(arr))\n",
    "\n",
    "#bujhinai"
   ]
  },
  {
   "cell_type": "markdown",
   "metadata": {},
   "source": [
    "Insertion"
   ]
  },
  {
   "cell_type": "code",
   "execution_count": null,
   "metadata": {},
   "outputs": [],
   "source": []
  },
  {
   "cell_type": "markdown",
   "metadata": {},
   "source": []
  },
  {
   "cell_type": "code",
   "execution_count": 5,
   "metadata": {},
   "outputs": [
    {
     "name": "stdout",
     "output_type": "stream",
     "text": [
      "[4 6 5 0]\n",
      "[ 4  6  5 15]\n",
      "[ 4  6  5 15 25  0  0  0  0]\n"
     ]
    }
   ],
   "source": [
    "def resize_arr( given_arr, new_size):\n",
    "    new_arr = np.array([0]*new_size ) # array dte vule gesi \n",
    "    for i in range(len(given_arr)):\n",
    "        new_arr[i]= given_arr[i]\n",
    "    return new_arr\n",
    "\n",
    "# given_arr =np.array([1,2,3,4]) \n",
    "\n",
    "# resize_arr(given_arr, 6)\n",
    "\n",
    "\n",
    "\n",
    "\n",
    "\n",
    "\n",
    "def insert_element_end(arr, size, elem):\n",
    "    if size >= len(arr):\n",
    "        arr = resize_arr(arr, len(arr)+5)\n",
    "    arr[size]= elem\n",
    "    return arr\n",
    "\n",
    "arr= np.zeros(4, dtype=int)\n",
    "arr[0], arr[1], arr[2] = 4, 6, 5\n",
    "print(arr)\n",
    "print(insert_element_end(arr, 3, 15)) #array, size, elem\n",
    "print(insert_element_end(arr, 4, 25)) #array, size, elem\n",
    "\n",
    "\n",
    "def insert_anywhere(arr, size, index, elem):\n",
    "    if index < 0 or index > size:\n",
    "        return \"insertion not possible\"\n",
    "    \n",
    "    if size >= len(arr):\n",
    "        arr = resize_arr(arr, len(arr)+ 5)\n",
    "        \n",
    "    for i in range( size, index, -1):\n",
    "        arr[i] = arr[i-1]\n",
    "        arr = \n",
    "    "
   ]
  },
  {
   "cell_type": "markdown",
   "metadata": {},
   "source": [
    "Inserting anywhere"
   ]
  },
  {
   "cell_type": "code",
   "execution_count": 9,
   "metadata": {},
   "outputs": [
    {
     "name": "stdout",
     "output_type": "stream",
     "text": [
      "[4 6 5 0]\n",
      "[ 4 15  6  5]\n",
      "[ 4 15  6  5 25  0  0]\n"
     ]
    }
   ],
   "source": [
    "def resize_arr( given_arr, new_size):\n",
    "    new_arr = np.array([0]*new_size ) # array dte vule gesi \n",
    "    for i in range(len(given_arr)):\n",
    "        new_arr[i]= given_arr[i]\n",
    "    return new_arr\n",
    "\n",
    "\n",
    "def insert_anywhere(arr, size, index, elem):\n",
    "          if index<0 or index>size:\n",
    "                   return \"Insertion Not Possible\"\n",
    "\n",
    "          if size >= len(arr):\n",
    "                  arr= resize_arr(arr, len(arr)+3)\n",
    "\n",
    "          for i in range(size, index, -1): #Right Shift\n",
    "                  arr[i]= arr[i-1]\n",
    "\n",
    "          arr[index]= elem\n",
    "          return arr\n",
    "\n",
    "arr= np.zeros(4, dtype=int)\n",
    "arr[0], arr[1], arr[2] = 4, 6, 5\n",
    "print(arr)\n",
    "print(insert_anywhere(arr, 3, 1, 15)) #array, size, index, elem\n",
    "print(insert_anywhere(arr, 4, 4, 25)) #array, size, index, elem, the size increased\n",
    "\n",
    "\n",
    "# If you want to insert at the end with this function too,\n",
    "# all you have to do is provide the index value equal to the size\n"
   ]
  },
  {
   "cell_type": "markdown",
   "metadata": {},
   "source": [
    "Removing"
   ]
  },
  {
   "cell_type": "markdown",
   "metadata": {},
   "source": []
  },
  {
   "cell_type": "code",
   "execution_count": null,
   "metadata": {},
   "outputs": [],
   "source": [
    "def rmv_elem( arr, idx, size):\n",
    "    if size == 0 or (idx < 0 and idx => size):\n",
    "        return \"deletion not possible\"\n",
    "    \n",
    "    for i in range (idx+1, size):\n",
    "        arr[i-1] = arr [i]\n",
    "    arr[size-1]= None\n",
    "    return arr\n",
    "\n",
    "arr = np.zeros(5, dtype=int)\n",
    "arr[0], arr[1], arr[2], arr[3] = 4,5,6,2\n",
    "print(arr)\n",
    "print(rmv_elem(arr, 4, 0)) "
   ]
  }
 ],
 "metadata": {
  "kernelspec": {
   "display_name": "cse220",
   "language": "python",
   "name": "python3"
  },
  "language_info": {
   "codemirror_mode": {
    "name": "ipython",
    "version": 3
   },
   "file_extension": ".py",
   "mimetype": "text/x-python",
   "name": "python",
   "nbconvert_exporter": "python",
   "pygments_lexer": "ipython3",
   "version": "3.11.1"
  }
 },
 "nbformat": 4,
 "nbformat_minor": 2
}
